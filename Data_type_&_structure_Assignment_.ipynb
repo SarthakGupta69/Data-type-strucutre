{
  "nbformat": 4,
  "nbformat_minor": 0,
  "metadata": {
    "colab": {
      "provenance": []
    },
    "kernelspec": {
      "name": "python3",
      "display_name": "Python 3"
    },
    "language_info": {
      "name": "python"
    }
  },
  "cells": [
    {
      "cell_type": "markdown",
      "source": [
        "Asssingment 2 - Data Types and Structures Questions\n"
      ],
      "metadata": {
        "id": "LnECbOKA2WIV"
      }
    },
    {
      "cell_type": "markdown",
      "source": [
        "1. What are data structures, and why are they important?\n",
        "- Answer :- Data structures are ways of organizing and storing data so that it can be accessed and modified efficiently. They are important because they help optimize tasks such as searching, inserting, deleting, and updating data. The right data structure can significantly improve the performance and efficiency of algorithms.\n",
        "\n",
        "2. Explain the difference between mutable and immutable data types with examples\n",
        "- Answer :- •\tMutable data types can be changed after creation. Example: Lists, Dictionaries, Sets.\n",
        "o\tmy_list = [1, 2, 3]\n",
        "o\tmy_list[0] = 4 # Now the list is [4, 2, 3]\n",
        "•\tImmutable data types cannot be changed once they are created. Example: Strings, Tuples, Integers.\n",
        "o\tmy_string = \"hello\"\n",
        "o\tmy_string[0] = \"H\" # This will raise an error because strings are immutable.\n",
        "\n",
        "\n",
        "3. What are the main differences between lists and tuples in Python?\n",
        "- Answer :- •\tLists: Mutable (can be changed), denoted by square brackets [], can be resized, elements can be added or removed.\n",
        "•\tTuples: Immutable (cannot be changed), denoted by parentheses (), fixed size, elements cannot be modified after creation.\n",
        "\n",
        "4. Describe how dictionaries store data\n",
        "- Answer :-  Dictionaries store data as key-value pairs. The keys are unique, and each key maps to a value. Dictionaries are unordered (in earlier Python versions) and allow for fast lookups based on keys.\n",
        "•\tExample: my_dict = {\"name\": \"Alice\", \"age\": 25}\n",
        "\n",
        "\n",
        "5. Why might you use a set instead of a list in Python?\n",
        "- Answer :- A set is used when you need to store unique values and care about   membership (whether an item is in the set or not), but do not care about the order of the elements. Sets automatically remove duplicates and are more efficient for checking membership than lists.\n",
        "•\tExample: my_set = {1, 2, 3}\n",
        "\n",
        "6. What is a string in Python, and how is it different from a list?\n",
        "- Answer :- A string is an immutable sequence of characters, whereas a list is a mutable collection of items that can be of any data type (e.g., integers, strings, etc.). Strings are typically used for text, while lists are more versatile for handling various types of data.\n",
        "•\tExample of a string: my_string = \"hello\"\n",
        "•\tExample of a list: my_list = [1, \"hello\", 3.5]\n",
        "\n",
        "7. How do tuples ensure data integrity in Python?\n",
        "- Answer :- Tuples ensure data integrity because they are immutable. Once a tuple is created, its elements cannot be modified, preventing accidental changes to the data.\n",
        "\n",
        "8. What is a hash table, and how does it relate to dictionaries in Python?\n",
        "- Answer :-A hash table is a data structure that stores data in key-value pairs, using a hash function to compute an index where the value should be stored. Python's dictionaries are implemented using hash tables, which allows for efficient O(1) average-time complexity for lookups.\n",
        "\n",
        "9. Can lists contain different data types in Python?\n",
        "- Answer :- Yes, lists in Python can contain elements of different data types. For example, a list can contain integers, strings, and even other lists.\n",
        "•\tExample: my_list = [1, \"hello\", 3.5, [1, 2]]\n",
        "\n",
        "10. Explain why strings are immutable in Python\n",
        "- Answer :- Strings are immutable to ensure their integrity and optimize memory usage. When strings are passed around, rather than being copied, references to the same string object are used. This improves performance and avoids the potential for accidental modification of string data.\n",
        "\n",
        "11. What advantages do dictionaries offer over lists for certain tasks?\n",
        "- Answer :- Dictionaries provide fast lookup times for keys, while lists require linear search. If you need to associate values with unique keys and quickly retrieve them, dictionaries are more efficient. For example, dictionaries are better for counting occurrences, mapping values, and handling associative data.\n",
        "\n",
        "12. Describe a scenario where using a tuple would be preferable over a list\n",
        "- Answer :- A tuple is preferable when you have a collection of data that should not be changed, such as coordinates (x, y) or constants that should not be modified after initialization. Tuples are faster than lists for such use cases because of their immutability.\n",
        "\n",
        "13. How do sets handle duplicate values in Python?\n",
        "- Answer :- Sets automatically remove duplicates. If you try to add a duplicate item to a set, it won't be added again.\n",
        "•\tExample: my_set = {1, 2, 2, 3} results in my_set = {1, 2, 3}.\n",
        "\n",
        "14. How does the “in” keyword work differently for lists and dictionaries?\n",
        "- Answer :- •\tIn lists, in checks if a value exists in the list.\n",
        "o\tExample: 5 in [1, 2, 3, 4] returns False.\n",
        "•\tIn dictionaries, in checks if a key exists in the dictionary.\n",
        "o\tExample: 'name' in {'name': 'Alice'} returns True.\n",
        "\n",
        "15. Can you modify the elements of a tuple? Explain why or why not.\n",
        "- Answer :- No, you cannot modify the elements of a tuple because tuples are immutable. This immutability is a key feature that ensures the data inside the tuple remains unchanged.\n",
        "\n",
        "16. What is a nested dictionary, and give an example of its use case?\n",
        "- Answer :- A nested dictionary is a dictionary that contains another dictionary as a value. It can be used to represent hierarchical data.\n",
        "•\tExample: nested_dict = {\"student1\": {\"name\": \"Alice\", \"age\": 20}, \"student2\": {\"name\": \"Bob\", \"age\": 22}}\n",
        "\n",
        "17. Describe the time complexity of accessing elements in a dictionary\n",
        "- Answer :- The average time complexity for accessing elements in a dictionary is O(1) due to the use of hash tables. This means that retrieving a value by key is very efficient, regardless of the size of the dictionary.\n",
        "\n",
        "18. In what situations are lists preferred over dictionaries?\n",
        "- Answer :- Lists are preferred when the order of the elements matters, and you may need to access them by index. Lists are also useful when you have a collection of items without the need for key-value pair mapping.\n",
        "\n",
        "19. Why are dictionaries considered unordered, and how does that affect data retrieval?\n",
        "- Answer :- Dictionaries are considered unordered because their elements are stored in a way that does not guarantee any specific order. This means that when you iterate over a dictionary, the order of the keys is not guaranteed. However, data retrieval is efficient based on the key, not order.\n",
        "\n",
        "20. Explain the difference between a list and a dictionary in terms of data retrieval.\n",
        "- Answer :- •\tList: Accessing an element requires an index and takes O(1) time for direct access.\n",
        "•\tDictionary: Accessing an element requires a key, and because dictionaries are implemented using hash tables, data retrieval is also O(1) on average.\n",
        "\n",
        "\n",
        "\n"
      ],
      "metadata": {
        "id": "03MGusZp2r_U"
      }
    },
    {
      "cell_type": "markdown",
      "source": [
        "Practical Questions:-"
      ],
      "metadata": {
        "id": "eWVvBlHR5vHj"
      }
    },
    {
      "cell_type": "code",
      "source": [
        "# Write a code to create a string with your name and print it\n",
        "# Creating a string with my name\n",
        "name = \"SARTHAK\"\n",
        "\n",
        "# Printing the string\n",
        "print(name)\n"
      ],
      "metadata": {
        "colab": {
          "base_uri": "https://localhost:8080/"
        },
        "id": "_jAvmfom5yB3",
        "outputId": "06c4592c-3de2-474a-993c-d5df36a2678c"
      },
      "execution_count": 1,
      "outputs": [
        {
          "output_type": "stream",
          "name": "stdout",
          "text": [
            "SARTHAK\n"
          ]
        }
      ]
    },
    {
      "cell_type": "code",
      "source": [
        "# Write a code to find the length of the string \"Hello World\"\n",
        "# Defining the string\n",
        "text = \"I am a good player\"\n",
        "\n",
        "# Finding the length of the string\n",
        "length = len(text)\n",
        "\n",
        "# Printing the length\n",
        "print(length)\n"
      ],
      "metadata": {
        "colab": {
          "base_uri": "https://localhost:8080/"
        },
        "id": "E-z2ORB66O_U",
        "outputId": "56875878-de3c-49c6-fa7e-528ef4fd646d"
      },
      "execution_count": 2,
      "outputs": [
        {
          "output_type": "stream",
          "name": "stdout",
          "text": [
            "18\n"
          ]
        }
      ]
    },
    {
      "cell_type": "code",
      "source": [
        "# Write a code to slice the first 3 characters from the string \"Python Programming\n",
        "# Defining the string\n",
        "text = \"Python Programming\"\n",
        "\n",
        "# Slicing the first 3 characters\n",
        "sliced_text = text[:3]\n",
        "\n",
        "# Printing the sliced text\n",
        "print(sliced_text)\n"
      ],
      "metadata": {
        "colab": {
          "base_uri": "https://localhost:8080/"
        },
        "id": "TcY7k9R06kkG",
        "outputId": "3f0a9093-b665-453d-b492-200329959723"
      },
      "execution_count": 3,
      "outputs": [
        {
          "output_type": "stream",
          "name": "stdout",
          "text": [
            "Pyt\n"
          ]
        }
      ]
    },
    {
      "cell_type": "code",
      "source": [
        "# Write a code to convert the string \"hello\" to uppercase\n",
        "# Defining the string\n",
        "text = \"hello\"\n",
        "\n",
        "# Converting the string to uppercase\n",
        "uppercase_text = text.upper()\n",
        "\n",
        "# Printing the uppercase string\n",
        "print(uppercase_text)\n"
      ],
      "metadata": {
        "colab": {
          "base_uri": "https://localhost:8080/"
        },
        "id": "v6Eb-ApM68Zn",
        "outputId": "6b7dea0b-1b85-4cfe-e22b-09f59798d141"
      },
      "execution_count": 5,
      "outputs": [
        {
          "output_type": "stream",
          "name": "stdout",
          "text": [
            "HELLO\n"
          ]
        }
      ]
    },
    {
      "cell_type": "code",
      "source": [
        "# Write a code to replace the word \"apple\" with \"orange\" in the string \"I like apple\n",
        "\n",
        "# Defining the string\n",
        "text = \"I like apple\"\n",
        "\n",
        "# Replacing \"apple\" with \"orange\"\n",
        "new_text = text.replace(\"apple\", \"orange\")\n",
        "\n",
        "# Printing the new string\n",
        "print(new_text)\n"
      ],
      "metadata": {
        "colab": {
          "base_uri": "https://localhost:8080/"
        },
        "id": "x06vCTuK7N3a",
        "outputId": "ac4e6a7c-9396-45cc-db3a-996fbacabe00"
      },
      "execution_count": 6,
      "outputs": [
        {
          "output_type": "stream",
          "name": "stdout",
          "text": [
            "I like orange\n"
          ]
        }
      ]
    },
    {
      "cell_type": "code",
      "source": [
        "# Write a code to create a list with numbers 1 to 5 and print it\n",
        "# Creating the list with numbers from 1 to 5\n",
        "numbers = [1, 2, 3, 4, 5]\n",
        "\n",
        "# Printing the list\n",
        "print(numbers)\n"
      ],
      "metadata": {
        "colab": {
          "base_uri": "https://localhost:8080/"
        },
        "id": "VIoaXz-a7YBq",
        "outputId": "ffc81d69-23b1-4341-a00d-944ff84fbc1a"
      },
      "execution_count": 7,
      "outputs": [
        {
          "output_type": "stream",
          "name": "stdout",
          "text": [
            "[1, 2, 3, 4, 5]\n"
          ]
        }
      ]
    },
    {
      "cell_type": "code",
      "source": [
        "# Write a code to append the number 10 to the list [1, 2, 3, 4]\n",
        "\n",
        "# Defining the list\n",
        "numbers = [1, 2, 3, 4]\n",
        "\n",
        "# Appending the number 10 to the list\n",
        "numbers.append(10)\n",
        "\n",
        "# Printing the updated list\n",
        "print(numbers)\n"
      ],
      "metadata": {
        "colab": {
          "base_uri": "https://localhost:8080/"
        },
        "id": "8KyRaNB-7mdv",
        "outputId": "874aa56d-7a6a-4481-e4c0-d25b67f49637"
      },
      "execution_count": 8,
      "outputs": [
        {
          "output_type": "stream",
          "name": "stdout",
          "text": [
            "[1, 2, 3, 4, 10]\n"
          ]
        }
      ]
    },
    {
      "cell_type": "code",
      "source": [
        "# Write a code to remove the number 3 from the list [1, 2, 3, 4, 5]\n",
        "# Defining the list\n",
        "numbers = [1, 2, 3, 4, 5]\n",
        "\n",
        "# Removing the number 3 from the list\n",
        "numbers.remove(3)\n",
        "\n",
        "# Printing the updated list\n",
        "print(numbers)\n"
      ],
      "metadata": {
        "colab": {
          "base_uri": "https://localhost:8080/"
        },
        "id": "XtTfC2rR72Ub",
        "outputId": "437b268a-1aeb-4260-a6ff-3dd90a0ffe12"
      },
      "execution_count": 9,
      "outputs": [
        {
          "output_type": "stream",
          "name": "stdout",
          "text": [
            "[1, 2, 4, 5]\n"
          ]
        }
      ]
    },
    {
      "cell_type": "code",
      "source": [
        "# Write a code to access the second element in the list ['a', 'b', 'c', 'd']\n",
        "# Defining the list\n",
        "letters = ['a', 'b', 'c', 'd']\n",
        "\n",
        "# Accessing the second element (index 1)\n",
        "second_element = letters[1]\n",
        "\n",
        "# Printing the second element\n",
        "print(second_element)\n"
      ],
      "metadata": {
        "colab": {
          "base_uri": "https://localhost:8080/"
        },
        "id": "j6OZ4mOv8FVu",
        "outputId": "471a8d45-b81e-4462-a4ed-31e8e7d9260d"
      },
      "execution_count": 10,
      "outputs": [
        {
          "output_type": "stream",
          "name": "stdout",
          "text": [
            "b\n"
          ]
        }
      ]
    },
    {
      "cell_type": "code",
      "source": [
        "# Write a code to reverse the list [10, 20, 30, 40, 50]\n",
        "\n",
        "# Defining the list\n",
        "numbers = [10, 20, 30, 40, 50]\n",
        "\n",
        "# Reversing the list\n",
        "numbers.reverse()\n",
        "\n",
        "# Printing the reversed list\n",
        "print(numbers)\n"
      ],
      "metadata": {
        "colab": {
          "base_uri": "https://localhost:8080/"
        },
        "id": "cN2FF-RW8Ode",
        "outputId": "efd33271-2e9e-4e88-9bc4-5e47cdeeecf4"
      },
      "execution_count": 11,
      "outputs": [
        {
          "output_type": "stream",
          "name": "stdout",
          "text": [
            "[50, 40, 30, 20, 10]\n"
          ]
        }
      ]
    },
    {
      "cell_type": "code",
      "source": [
        "#  Write a code to create a tuple with the elements 100, 200, 300 and print it\n",
        "# Creating the tuple\n",
        "my_tuple = (100, 200, 300)\n",
        "\n",
        "# Printing the tuple\n",
        "print(my_tuple)\n"
      ],
      "metadata": {
        "colab": {
          "base_uri": "https://localhost:8080/"
        },
        "id": "xXnQOG198boO",
        "outputId": "71d1b4ea-1a8d-4b9c-eee0-3f542cff8006"
      },
      "execution_count": 12,
      "outputs": [
        {
          "output_type": "stream",
          "name": "stdout",
          "text": [
            "(100, 200, 300)\n"
          ]
        }
      ]
    },
    {
      "cell_type": "code",
      "source": [
        "#  Write a code to access the second-to-last element of the tuple ('red', 'green', 'blue', 'yellow')\n",
        "# Defining the tuple\n",
        "my_tuple = ('red', 'green', 'blue', 'yellow')\n",
        "\n",
        "# Accessing the second-to-last element using negative indexing\n",
        "second_to_last_element = my_tuple[-2]\n",
        "\n",
        "# Printing the second-to-last element\n",
        "print(second_to_last_element)\n",
        "\n"
      ],
      "metadata": {
        "colab": {
          "base_uri": "https://localhost:8080/"
        },
        "id": "JBNb22ON8fy5",
        "outputId": "08dc1238-6afd-4e4f-f6e5-b37165f1e6d7"
      },
      "execution_count": 13,
      "outputs": [
        {
          "output_type": "stream",
          "name": "stdout",
          "text": [
            "blue\n"
          ]
        }
      ]
    },
    {
      "cell_type": "code",
      "source": [
        "#  Write a code to find the minimum number in the tuple (10, 20, 5, 15).\n",
        "\n",
        "# Defining the tuple\n",
        "my_tuple = (10, 20, 5, 15)\n",
        "\n",
        "# Finding the minimum number in the tuple\n",
        "min_number = min(my_tuple)\n",
        "\n",
        "# Printing the minimum number\n",
        "print(min_number)\n"
      ],
      "metadata": {
        "colab": {
          "base_uri": "https://localhost:8080/"
        },
        "id": "agEWLtfI8ilb",
        "outputId": "19103435-7d84-4356-e62c-a184bd112b01"
      },
      "execution_count": 14,
      "outputs": [
        {
          "output_type": "stream",
          "name": "stdout",
          "text": [
            "5\n"
          ]
        }
      ]
    },
    {
      "cell_type": "code",
      "source": [
        "#  Write a code to find the index of the element \"cat\" in the tuple ('dog', 'cat', 'rabbit').\n",
        "\n",
        "# Defining the tuple\n",
        "my_tuple = ('dog', 'cat', 'rabbit')\n",
        "\n",
        "# Finding the index of the element \"cat\"\n",
        "index_of_cat = my_tuple.index('cat')\n",
        "\n",
        "# Printing the index\n",
        "print(index_of_cat)\n"
      ],
      "metadata": {
        "colab": {
          "base_uri": "https://localhost:8080/"
        },
        "id": "cOWyyfnB8oVo",
        "outputId": "db18bf5b-30d5-4397-c523-526984eec16f"
      },
      "execution_count": 15,
      "outputs": [
        {
          "output_type": "stream",
          "name": "stdout",
          "text": [
            "1\n"
          ]
        }
      ]
    },
    {
      "cell_type": "code",
      "source": [
        "# Write a code to create a tuple containing three different fruits and check if \"kiwi\" is in it\n",
        "\n",
        "# Creating the tuple with three different fruits\n",
        "fruits = ('apple', 'banana', 'cherry')\n",
        "\n",
        "# Checking if \"kiwi\" is in the tuple\n",
        "is_kiwi_in_tuple = 'kiwi' in fruits\n",
        "\n",
        "# Printing the result\n",
        "print(is_kiwi_in_tuple)\n"
      ],
      "metadata": {
        "colab": {
          "base_uri": "https://localhost:8080/"
        },
        "id": "eoK-kccn8s0i",
        "outputId": "3fbe785d-c4a9-4e41-b03f-141514f05154"
      },
      "execution_count": 16,
      "outputs": [
        {
          "output_type": "stream",
          "name": "stdout",
          "text": [
            "False\n"
          ]
        }
      ]
    },
    {
      "cell_type": "code",
      "source": [
        "# Write a code to create a set with the elements 'a', 'b', 'c' and print it.\n",
        "\n",
        "# Creating the set with elements 'a', 'b', 'c'\n",
        "my_set = {'a', 'b', 'c'}\n",
        "\n",
        "# Printing the set\n",
        "print(my_set)\n"
      ],
      "metadata": {
        "colab": {
          "base_uri": "https://localhost:8080/"
        },
        "id": "9W9P2mD_8woq",
        "outputId": "119b62a7-0188-44ac-a148-d6e2ab8eba17"
      },
      "execution_count": 17,
      "outputs": [
        {
          "output_type": "stream",
          "name": "stdout",
          "text": [
            "{'a', 'c', 'b'}\n"
          ]
        }
      ]
    },
    {
      "cell_type": "code",
      "source": [
        "# Write a code to clear all elements from the set {1, 2, 3, 4, 5}.\n",
        "\n",
        "# Defining the set\n",
        "my_set = {1, 2, 3, 4, 5}\n",
        "\n",
        "# Clearing all elements from the set\n",
        "my_set.clear()\n",
        "\n",
        "# Printing the empty set\n",
        "print(my_set)\n"
      ],
      "metadata": {
        "colab": {
          "base_uri": "https://localhost:8080/"
        },
        "id": "m99ISe2E8yhw",
        "outputId": "e1d06709-7bbc-49b5-9e80-9a05d5a81837"
      },
      "execution_count": 18,
      "outputs": [
        {
          "output_type": "stream",
          "name": "stdout",
          "text": [
            "set()\n"
          ]
        }
      ]
    },
    {
      "cell_type": "code",
      "source": [
        " # Write a code to remove the element 4 from the set {1, 2, 3, 4}.\n",
        " # Defining the set\n",
        "my_set = {1, 2, 3, 4}\n",
        "\n",
        "# Removing the element 4 from the set\n",
        "my_set.remove(4)\n",
        "\n",
        "# Printing the updated set\n",
        "print(my_set)\n"
      ],
      "metadata": {
        "colab": {
          "base_uri": "https://localhost:8080/"
        },
        "id": "u0xTx4AK-ZZK",
        "outputId": "cbbee24a-8b0a-4e8c-9926-87b5f242a121"
      },
      "execution_count": 19,
      "outputs": [
        {
          "output_type": "stream",
          "name": "stdout",
          "text": [
            "{1, 2, 3}\n"
          ]
        }
      ]
    },
    {
      "cell_type": "code",
      "source": [
        "# Write a code to find the union of two sets {1, 2, 3} and {3, 4, 5}.\n",
        "\n",
        "# Defining the sets\n",
        "set1 = {1, 2, 3}\n",
        "set2 = {3, 4, 5}\n",
        "\n",
        "# Finding the union of the two sets\n",
        "union_set = set1.union(set2)\n",
        "\n",
        "# Printing the union of the sets\n",
        "print(union_set)\n"
      ],
      "metadata": {
        "colab": {
          "base_uri": "https://localhost:8080/"
        },
        "id": "Q0WgPcng-gfk",
        "outputId": "4d91e916-17dc-4ebc-f364-1ca3e9afdecb"
      },
      "execution_count": 20,
      "outputs": [
        {
          "output_type": "stream",
          "name": "stdout",
          "text": [
            "{1, 2, 3, 4, 5}\n"
          ]
        }
      ]
    },
    {
      "cell_type": "code",
      "source": [
        "# 20. Write a code to find the intersection of two sets {1, 2, 3} and {2, 3, 4}.\n",
        "\n",
        "# Defining the sets\n",
        "set1 = {1, 2, 3}\n",
        "set2 = {2, 3, 4}\n",
        "\n",
        "# Finding the intersection of the two sets\n",
        "intersection_set = set1.intersection(set2)\n",
        "\n",
        "# Printing the intersection of the sets\n",
        "print(intersection_set)\n"
      ],
      "metadata": {
        "colab": {
          "base_uri": "https://localhost:8080/"
        },
        "id": "IVE_86rL-rNx",
        "outputId": "f580c726-05a4-4fc6-c1df-38715dde5942"
      },
      "execution_count": 21,
      "outputs": [
        {
          "output_type": "stream",
          "name": "stdout",
          "text": [
            "{2, 3}\n"
          ]
        }
      ]
    },
    {
      "cell_type": "code",
      "source": [
        "# Write a code to create a dictionary with the keys \"name\", \"age\", and \"city\", and print it.\n",
        "\n",
        "# Creating the dictionary\n",
        "my_dict = {\n",
        "    \"name\": \"sarthak\",\n",
        "    \"age\": 21,\n",
        "    \"city\": \"Dehradun\"\n",
        "}\n",
        "\n",
        "# Printing the dictionary\n",
        "print(my_dict)\n"
      ],
      "metadata": {
        "colab": {
          "base_uri": "https://localhost:8080/"
        },
        "id": "ZDPmBAEY_G_F",
        "outputId": "e1ea76e1-c421-48e7-e850-ec241bcfb37e"
      },
      "execution_count": 23,
      "outputs": [
        {
          "output_type": "stream",
          "name": "stdout",
          "text": [
            "{'name': 'sarthak', 'age': 21, 'city': 'Dehradun'}\n"
          ]
        }
      ]
    },
    {
      "cell_type": "code",
      "source": [
        "# 22. Write a code to add a new key-value pair \"country\": \"USA\" to the dictionary {'name': 'John', 'age': 25}.\n",
        "\n",
        "# Defining the dictionary\n",
        "my_dict = {'name': 'John', 'age': 25}\n",
        "\n",
        "# Adding the new key-value pair\n",
        "my_dict['country'] = 'USA'\n",
        "\n",
        "# Printing the updated dictionary\n",
        "print(my_dict)\n"
      ],
      "metadata": {
        "colab": {
          "base_uri": "https://localhost:8080/"
        },
        "id": "rz4iGLUA_cvW",
        "outputId": "3f73d78d-418e-4342-9fad-3868414bb78f"
      },
      "execution_count": 24,
      "outputs": [
        {
          "output_type": "stream",
          "name": "stdout",
          "text": [
            "{'name': 'John', 'age': 25, 'country': 'USA'}\n"
          ]
        }
      ]
    },
    {
      "cell_type": "code",
      "source": [
        "# 23. Write a code to access the value associated with the key \"name\" in the dictionary {'name': 'Alice', 'age': 30}.\n",
        "\n",
        "# Defining the dictionary\n",
        "my_dict = {'name': 'Alice', 'age': 30}\n",
        "\n",
        "# Accessing the value associated with the key \"name\"\n",
        "name_value = my_dict['name']\n",
        "\n",
        "# Printing the value\n",
        "print(name_value)\n"
      ],
      "metadata": {
        "colab": {
          "base_uri": "https://localhost:8080/"
        },
        "id": "v4gmdLjQ_mnW",
        "outputId": "a061fa57-e2e5-455f-a3ea-31a6afba2c9c"
      },
      "execution_count": 25,
      "outputs": [
        {
          "output_type": "stream",
          "name": "stdout",
          "text": [
            "Alice\n"
          ]
        }
      ]
    },
    {
      "cell_type": "code",
      "source": [
        "# 24. Write a code to remove the key \"age\" from the dictionary {'name': 'Bob', 'age': 22, 'city': 'New York'}.\n",
        "\n",
        "# Defining the dictionary\n",
        "my_dict = {'name': 'Bob', 'age': 22, 'city': 'New York'}\n",
        "\n",
        "# Removing the key \"age\" from the dictionary\n",
        "del my_dict['age']\n",
        "\n",
        "# Printing the updated dictionary\n",
        "print(my_dict)\n"
      ],
      "metadata": {
        "colab": {
          "base_uri": "https://localhost:8080/"
        },
        "id": "vuSZC3_U_zQk",
        "outputId": "8673a89c-1cea-4a23-f272-0e66b6fccda9"
      },
      "execution_count": 26,
      "outputs": [
        {
          "output_type": "stream",
          "name": "stdout",
          "text": [
            "{'name': 'Bob', 'city': 'New York'}\n"
          ]
        }
      ]
    },
    {
      "cell_type": "code",
      "source": [
        "# 25. Write a code to check if the key \"city\" exists in the dictionary {'name': 'Alice', 'city': 'Paris'}.\n",
        "\n",
        "# Defining the dictionary\n",
        "my_dict = {'name': 'Alice', 'city': 'Paris'}\n",
        "\n",
        "# Checking if the key \"city\" exists in the dictionary\n",
        "if 'city' in my_dict:\n",
        "    print(\"The key 'city' exists in the dictionary.\")\n",
        "else:\n",
        "    print(\"The key 'city' does not exist in the dictionary.\")\n"
      ],
      "metadata": {
        "colab": {
          "base_uri": "https://localhost:8080/"
        },
        "id": "Ef_8R3Ob_6Bt",
        "outputId": "e0fd950e-4b35-4c7e-8a92-68eb4b954db8"
      },
      "execution_count": 27,
      "outputs": [
        {
          "output_type": "stream",
          "name": "stdout",
          "text": [
            "The key 'city' exists in the dictionary.\n"
          ]
        }
      ]
    },
    {
      "cell_type": "code",
      "source": [
        "# 26. Write a code to create a list, a tuple, and a dictionary, and print them all.\n",
        "# Creating the list\n",
        "my_list = [1, 2, 3, 4, 5]\n",
        "\n",
        "# Creating the tuple\n",
        "my_tuple = ('apple', 'banana', 'cherry')\n",
        "\n",
        "# Creating the dictionary\n",
        "my_dict = {'name': 'Alice', 'age': 30, 'city': 'New York'}\n",
        "\n",
        "# Printing the list, tuple, and dictionary\n",
        "print(\"List:\", my_list)\n",
        "print(\"Tuple:\", my_tuple)\n",
        "print(\"Dictionary:\", my_dict)\n"
      ],
      "metadata": {
        "colab": {
          "base_uri": "https://localhost:8080/"
        },
        "id": "kX0TkKEbAEV0",
        "outputId": "f3cf0afc-d217-4829-de74-7e7e389a6289"
      },
      "execution_count": 28,
      "outputs": [
        {
          "output_type": "stream",
          "name": "stdout",
          "text": [
            "List: [1, 2, 3, 4, 5]\n",
            "Tuple: ('apple', 'banana', 'cherry')\n",
            "Dictionary: {'name': 'Alice', 'age': 30, 'city': 'New York'}\n"
          ]
        }
      ]
    },
    {
      "cell_type": "code",
      "source": [
        "# 27. Write a code to create a list of 5 random numbers between 1 and 100, sort it in ascending order, and print the result.(replaced)\n",
        "\n",
        "import random\n",
        "\n",
        "# Creating a list of 5 random numbers between 1 and 100\n",
        "random_numbers = [random.randint(1, 100) for _ in range(5)]\n",
        "\n",
        "# Sorting the list in ascending order\n",
        "random_numbers.sort()\n",
        "\n",
        "# Printing the sorted list\n",
        "print(\"Sorted list:\", random_numbers)\n"
      ],
      "metadata": {
        "colab": {
          "base_uri": "https://localhost:8080/"
        },
        "id": "r411dsnjAOmw",
        "outputId": "64dfee5d-4900-4b0d-d3f9-55e04a97dd74"
      },
      "execution_count": 29,
      "outputs": [
        {
          "output_type": "stream",
          "name": "stdout",
          "text": [
            "Sorted list: [4, 5, 27, 74, 88]\n"
          ]
        }
      ]
    },
    {
      "cell_type": "code",
      "source": [
        "# 28. Write a code to create a list with strings and print the element at the third index.\n",
        "# Creating a list with strings\n",
        "my_list = [\"apple\", \"banana\", \"cherry\", \"date\", \"elderberry\"]\n",
        "\n",
        "# Printing the element at the third index\n",
        "print(my_list[3])\n"
      ],
      "metadata": {
        "colab": {
          "base_uri": "https://localhost:8080/"
        },
        "id": "aaW-8aauAdMV",
        "outputId": "7ff88bee-0628-4fbf-bdab-9124bfc5df9a"
      },
      "execution_count": 30,
      "outputs": [
        {
          "output_type": "stream",
          "name": "stdout",
          "text": [
            "date\n"
          ]
        }
      ]
    },
    {
      "cell_type": "code",
      "source": [
        "# 29. Write a code to combine two dictionaries into one and print the result.\n",
        "# Defining two dictionaries\n",
        "dict1 = {'name': 'Alice', 'age': 30}\n",
        "dict2 = {'city': 'New York', 'job': 'Engineer'}\n",
        "\n",
        "# Combining the two dictionaries\n",
        "combined_dict = {**dict1, **dict2}\n",
        "\n",
        "# Printing the combined dictionary\n",
        "print(combined_dict)\n"
      ],
      "metadata": {
        "colab": {
          "base_uri": "https://localhost:8080/"
        },
        "id": "5UcguaqtAoY7",
        "outputId": "61315bea-b5ba-40dd-be40-cd2f58607a49"
      },
      "execution_count": 31,
      "outputs": [
        {
          "output_type": "stream",
          "name": "stdout",
          "text": [
            "{'name': 'Alice', 'age': 30, 'city': 'New York', 'job': 'Engineer'}\n"
          ]
        }
      ]
    },
    {
      "cell_type": "code",
      "source": [
        "# 30. Write a code to convert a list of strings into a set.\n",
        "# Defining a list of strings\n",
        "my_list = [\"apple\", \"banana\", \"cherry\", \"apple\", \"date\"]\n",
        "\n",
        "# Converting the list to a set (duplicates will be removed)\n",
        "my_set = set(my_list)\n",
        "\n",
        "# Printing the set\n",
        "print(my_set)\n"
      ],
      "metadata": {
        "colab": {
          "base_uri": "https://localhost:8080/"
        },
        "id": "vU51DV5MArS1",
        "outputId": "d00bdece-f2a1-4c29-8653-a5b441a46cee"
      },
      "execution_count": 32,
      "outputs": [
        {
          "output_type": "stream",
          "name": "stdout",
          "text": [
            "{'cherry', 'apple', 'banana', 'date'}\n"
          ]
        }
      ]
    }
  ]
}